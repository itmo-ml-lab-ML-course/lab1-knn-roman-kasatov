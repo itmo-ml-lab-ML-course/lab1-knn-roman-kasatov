{
 "cells": [
  {
   "cell_type": "markdown",
   "metadata": {},
   "source": [
    "## Лабораторная 1. KNN"
   ]
  },
  {
   "cell_type": "code",
   "execution_count": 56,
   "metadata": {},
   "outputs": [],
   "source": [
    "import numpy as np\n",
    "import pandas as pd\n",
    "import matplotlib.pyplot as plt\n",
    "\n",
    "from sklearn.metrics import accuracy_score\n",
    "from sklearn.model_selection import train_test_split\n",
    "from sklearn.neighbors import KNeighborsClassifier\n",
    "from sklearn.pipeline import Pipeline\n",
    "from sklearn.compose import ColumnTransformer\n",
    "from sklearn.base import BaseEstimator, TransformerMixin\n",
    "from sklearn.impute import SimpleImputer\n",
    "from sklearn.preprocessing import OneHotEncoder, StandardScaler\n",
    "from sklearn.model_selection import TimeSeriesSplit\n",
    "\n",
    "import optuna"
   ]
  },
  {
   "cell_type": "code",
   "execution_count": 57,
   "metadata": {},
   "outputs": [
    {
     "data": {
      "text/plain": [
       "(553, 9)"
      ]
     },
     "execution_count": 57,
     "metadata": {},
     "output_type": "execute_result"
    }
   ],
   "source": [
    "df = pd.read_csv('dataframe.csv')\n",
    "df.shape"
   ]
  },
  {
   "cell_type": "code",
   "execution_count": 58,
   "metadata": {},
   "outputs": [
    {
     "data": {
      "text/html": [
       "<div>\n",
       "<style scoped>\n",
       "    .dataframe tbody tr th:only-of-type {\n",
       "        vertical-align: middle;\n",
       "    }\n",
       "\n",
       "    .dataframe tbody tr th {\n",
       "        vertical-align: top;\n",
       "    }\n",
       "\n",
       "    .dataframe thead th {\n",
       "        text-align: right;\n",
       "    }\n",
       "</style>\n",
       "<table border=\"1\" class=\"dataframe\">\n",
       "  <thead>\n",
       "    <tr style=\"text-align: right;\">\n",
       "      <th></th>\n",
       "      <th>Процессор</th>\n",
       "      <th>Общий объем SSD, ГБ</th>\n",
       "      <th>Видеокарта</th>\n",
       "      <th>Операционная система</th>\n",
       "      <th>Диагональ экрана, дюймы</th>\n",
       "      <th>Технология матрицы</th>\n",
       "      <th>Тип памяти</th>\n",
       "      <th>Цена</th>\n",
       "      <th>Оперативная память, ГБ</th>\n",
       "    </tr>\n",
       "  </thead>\n",
       "  <tbody>\n",
       "    <tr>\n",
       "      <th>0</th>\n",
       "      <td>Intel Core i5-1135G7 (2.4 ГГц)</td>\n",
       "      <td>512.0</td>\n",
       "      <td>Intel Iris Xe Graphics</td>\n",
       "      <td>Без системы</td>\n",
       "      <td>15.6</td>\n",
       "      <td>TN</td>\n",
       "      <td>DDR4</td>\n",
       "      <td>50377</td>\n",
       "      <td>8</td>\n",
       "    </tr>\n",
       "    <tr>\n",
       "      <th>1</th>\n",
       "      <td>NaN</td>\n",
       "      <td>512.0</td>\n",
       "      <td>AMD Radeon R7</td>\n",
       "      <td>Windows Home</td>\n",
       "      <td>16.0</td>\n",
       "      <td>OLED</td>\n",
       "      <td>DDR4</td>\n",
       "      <td>61187</td>\n",
       "      <td>16</td>\n",
       "    </tr>\n",
       "    <tr>\n",
       "      <th>2</th>\n",
       "      <td>AMD Ryzen 7 5800H (3.2 ГГц)</td>\n",
       "      <td>512.0</td>\n",
       "      <td>AMD Radeon Graphics</td>\n",
       "      <td>Без системы</td>\n",
       "      <td>16.0</td>\n",
       "      <td>OLED</td>\n",
       "      <td>DDR4</td>\n",
       "      <td>110081</td>\n",
       "      <td>16</td>\n",
       "    </tr>\n",
       "    <tr>\n",
       "      <th>3</th>\n",
       "      <td>Intel Core i7-13700HX (2.1 ГГц)</td>\n",
       "      <td>1024.0</td>\n",
       "      <td>NVIDIA GeForce RTX 4060 для ноутбуков (8 Гб)</td>\n",
       "      <td>Без системы</td>\n",
       "      <td>16.0</td>\n",
       "      <td>IPS</td>\n",
       "      <td>DDR5</td>\n",
       "      <td>135006</td>\n",
       "      <td>16</td>\n",
       "    </tr>\n",
       "    <tr>\n",
       "      <th>4</th>\n",
       "      <td>Intel Core i5-13500H (2.6 ГГц)</td>\n",
       "      <td>512.0</td>\n",
       "      <td>Intel UHD Graphics</td>\n",
       "      <td>Windows Home</td>\n",
       "      <td>17.3</td>\n",
       "      <td>IPS</td>\n",
       "      <td>DDR4</td>\n",
       "      <td>60341</td>\n",
       "      <td>8</td>\n",
       "    </tr>\n",
       "  </tbody>\n",
       "</table>\n",
       "</div>"
      ],
      "text/plain": [
       "                         Процессор  Общий объем SSD, ГБ  \\\n",
       "0   Intel Core i5-1135G7 (2.4 ГГц)                512.0   \n",
       "1                              NaN                512.0   \n",
       "2      AMD Ryzen 7 5800H (3.2 ГГц)                512.0   \n",
       "3  Intel Core i7-13700HX (2.1 ГГц)               1024.0   \n",
       "4   Intel Core i5-13500H (2.6 ГГц)                512.0   \n",
       "\n",
       "                                     Видеокарта Операционная система  \\\n",
       "0                        Intel Iris Xe Graphics          Без системы   \n",
       "1                                 AMD Radeon R7         Windows Home   \n",
       "2                           AMD Radeon Graphics          Без системы   \n",
       "3  NVIDIA GeForce RTX 4060 для ноутбуков (8 Гб)          Без системы   \n",
       "4                            Intel UHD Graphics         Windows Home   \n",
       "\n",
       "   Диагональ экрана, дюймы Технология матрицы Тип памяти    Цена  \\\n",
       "0                     15.6                 TN       DDR4   50377   \n",
       "1                     16.0               OLED       DDR4   61187   \n",
       "2                     16.0               OLED       DDR4  110081   \n",
       "3                     16.0                IPS       DDR5  135006   \n",
       "4                     17.3                IPS       DDR4   60341   \n",
       "\n",
       "   Оперативная память, ГБ  \n",
       "0                       8  \n",
       "1                      16  \n",
       "2                      16  \n",
       "3                      16  \n",
       "4                       8  "
      ]
     },
     "execution_count": 58,
     "metadata": {},
     "output_type": "execute_result"
    }
   ],
   "source": [
    "df.head()"
   ]
  },
  {
   "cell_type": "markdown",
   "metadata": {},
   "source": [
    "### Подготовка данных"
   ]
  },
  {
   "cell_type": "code",
   "execution_count": 59,
   "metadata": {},
   "outputs": [
    {
     "data": {
      "text/plain": [
       "Процессор                   True\n",
       "Общий объем SSD, ГБ         True\n",
       "Видеокарта                  True\n",
       "Операционная система       False\n",
       "Диагональ экрана, дюймы    False\n",
       "Технология матрицы          True\n",
       "Тип памяти                  True\n",
       "Цена                       False\n",
       "Оперативная память, ГБ     False\n",
       "dtype: bool"
      ]
     },
     "execution_count": 59,
     "metadata": {},
     "output_type": "execute_result"
    }
   ],
   "source": [
    "df.isna().any()"
   ]
  },
  {
   "cell_type": "code",
   "execution_count": 60,
   "metadata": {},
   "outputs": [
    {
     "data": {
      "text/plain": [
       "[50162.0, 55222.0, 65262.0, 90347.0]"
      ]
     },
     "execution_count": 60,
     "metadata": {},
     "output_type": "execute_result"
    }
   ],
   "source": [
    "edge_values = [df['Цена'].quantile(x) for x in [0.2, 0.4, 0.6, 0.8]]\n",
    "edge_values"
   ]
  },
  {
   "cell_type": "code",
   "execution_count": 61,
   "metadata": {},
   "outputs": [
    {
     "data": {
      "text/plain": [
       "price_type\n",
       "0    115\n",
       "1    112\n",
       "4    110\n",
       "3    110\n",
       "2    106\n",
       "Name: count, dtype: int64"
      ]
     },
     "execution_count": 61,
     "metadata": {},
     "output_type": "execute_result"
    }
   ],
   "source": [
    "def price_to_type(p):\n",
    "    for i, edge in enumerate(edge_values):\n",
    "        if p <= edge:\n",
    "            return i\n",
    "    return len(edge_values)\n",
    "\n",
    "target = 'price_type'\n",
    "\n",
    "df[target] = df['Цена'].apply(price_to_type)\n",
    "\n",
    "df[target].value_counts()"
   ]
  },
  {
   "cell_type": "code",
   "execution_count": 62,
   "metadata": {},
   "outputs": [],
   "source": [
    "num_columns = ['Диагональ экрана, дюймы', 'Общий объем SSD, ГБ', 'Оперативная память, ГБ']\n",
    "cat_columns = ['Операционная система', 'Технология матрицы', 'Тип памяти', 'Процессор', 'Видеокарта']"
   ]
  },
  {
   "cell_type": "code",
   "execution_count": 63,
   "metadata": {},
   "outputs": [],
   "source": [
    "X = df.drop([target, 'Цена'], axis=1)\n",
    "y = df[target]\n",
    "\n",
    "X_train_val, X_test, y_train_val, y_test = train_test_split(X, y, test_size=0.2, random_state=42)\n",
    "X_train, X_val, y_train, y_val = train_test_split(X_train_val, y_train_val, test_size=0.2)"
   ]
  },
  {
   "cell_type": "code",
   "execution_count": 64,
   "metadata": {},
   "outputs": [],
   "source": [
    "class MyTransformer(BaseEstimator, TransformerMixin):\n",
    "    frequent = {}\n",
    "\n",
    "    def __init__(self, columns):\n",
    "        self.columns = columns\n",
    "\n",
    "    def fit(self, X, y=None):\n",
    "        for col in self.columns:\n",
    "            self.frequent[col] = set(X[col].value_counts().head(4).index)\n",
    "        return self\n",
    "\n",
    "    def transform(self, X, y=None):\n",
    "        for col in self.columns:\n",
    "            X[col] = X[col].apply(lambda x: x if x in self.frequent[col] else 'OTHER')\n",
    "        return X\n",
    "\n",
    "num_transformer = Pipeline(\n",
    "    steps=[\n",
    "        (\"imputer\", SimpleImputer(strategy=\"median\")),\n",
    "        (\"scaler\", StandardScaler())\n",
    "    ]\n",
    ")\n",
    "\n",
    "preprocessor = Pipeline(steps = [\n",
    "    ('my_trans', MyTransformer(cat_columns)),\n",
    "    ('column_trans', ColumnTransformer(\n",
    "        transformers=[\n",
    "            (\"cat\",\n",
    "             OneHotEncoder(\n",
    "                 handle_unknown=\"ignore\"),\n",
    "             cat_columns\n",
    "            ),\n",
    "            (\"num\", num_transformer, num_columns),\n",
    "        ]\n",
    "    ))\n",
    "])\n",
    "\n",
    "X_train = preprocessor.fit_transform(X_train)\n",
    "X_test = preprocessor.transform(X_test)\n",
    "X_val = preprocessor.transform(X_val)"
   ]
  },
  {
   "cell_type": "code",
   "execution_count": 65,
   "metadata": {},
   "outputs": [],
   "source": [
    "class KNN:\n",
    "    \"\"\"\n",
    "    KNN classificator.\n",
    "    Parameters:\\\\\n",
    "    + distance =\n",
    "        - euclidean\n",
    "        - minkowsky (expects param p)\n",
    "        - cosine\n",
    "    + kernel = \n",
    "        - uniform\n",
    "        - gaussian\n",
    "        - triangular\n",
    "        - epanechnikov\n",
    "    + weights = None/array\n",
    "    + k - number of neighbors\n",
    "    + h - window width (only if k not specified)\n",
    "    \"\"\"\n",
    "\n",
    "    def __init__(self, distance='euclidean', kernel='uniform', weights=None, k=None, h=None, **kwargs):\n",
    "        \n",
    "        if k is None and h is None:\n",
    "            raise ValueError(\"At least k or h must be specified\")\n",
    "        \n",
    "        self._weights = weights\n",
    "        self._h = h\n",
    "        self._k = k\n",
    "        \n",
    "        self._eps = 0.000001\n",
    "\n",
    "        if distance == 'euclidean':\n",
    "            self._distance = KNN.get_mikowsky_distance(2)\n",
    "        elif distance == 'minkowsky':\n",
    "            self._distance = KNN.get_mikowsky_distance(kwargs['p']) \n",
    "        elif distance == 'cosine':\n",
    "            self._distance = KNN.cosine_distance\n",
    "        else:\n",
    "            raise ValueError('Wrong distance: ' + distance)\n",
    "    \n",
    "        if kernel == 'uniform':\n",
    "            self._kernel = KNN.uniform_kernel\n",
    "        elif kernel == 'gaussian':\n",
    "            self._kernel = KNN.gaussian_kernel\n",
    "        elif kernel == 'triangular':\n",
    "            self._kernel = KNN.triangular_kernel\n",
    "        elif kernel == 'epanechnikov':\n",
    "            self._kernel = KNN.epanechnikov_kernel\n",
    "        else:\n",
    "            raise ValueError('Wrong kernel: ' + kernel)\n",
    "\n",
    "\n",
    "    def fit(self, X, y):\n",
    "        self._X = np.array(X)\n",
    "        self._y = np.array(y)\n",
    "        return self\n",
    "    \n",
    "    def predict(self, X):\n",
    "        X = np.array(X)\n",
    "        res = []\n",
    "        for point in X:\n",
    "            distances = []\n",
    "            for i, train_point in enumerate(self._X):\n",
    "                distances.append((self._distance(point, train_point), i))\n",
    "            distances.sort()\n",
    "            voting = {}\n",
    "            for neighbor_number, (dist, idx) in enumerate(distances[:self._k]):\n",
    "                if self._k is not None:\n",
    "                    if neighbor_number == self._k: break\n",
    "                    \n",
    "                    value = self._kernel(dist / (distances[self._k][0] + self._eps))\n",
    "\n",
    "                else: # use window with width h\n",
    "                    value = self._kernel(dist / self._h)\n",
    "\n",
    "                if self._weights is not None:\n",
    "                    value *= self._weights[idx]\n",
    "\n",
    "                target = self._y[idx]\n",
    "                if target not in voting:\n",
    "                    voting[target] = 0\n",
    "                voting[target] += value\n",
    "                     \n",
    "            res.append(sorted(voting.items(), key=lambda x: x[1])[-1][0])\n",
    "        return res\n",
    "\n",
    "    @staticmethod\n",
    "    def get_mikowsky_distance(p):\n",
    "        def minkowsky(a, b):\n",
    "            return np.sum(np.abs(a - b) ** p) ** (1/p)\n",
    "        return minkowsky\n",
    "\n",
    "    @staticmethod\n",
    "    def cosine_distance(a, b):\n",
    "        return 1 - np.sum(a * b) / (np.sum(a ** 2) * np.sum(b ** 2)) ** (1/2)\n",
    "    \n",
    "    @staticmethod\n",
    "    def uniform_kernel(x):\n",
    "        return 1 / 2 * (np.abs(x) < 1)\n",
    "    \n",
    "    @staticmethod\n",
    "    def gaussian_kernel(x):\n",
    "        return 1 / (2 * np.pi) ** (1/2) * np.exp(-x ** 2 / 2)\n",
    "    \n",
    "    @staticmethod\n",
    "    def triangular_kernel(x):\n",
    "        return (1 - np.abs(x)) * (np.abs(x) < 1)\n",
    "    \n",
    "    @staticmethod\n",
    "    def epanechnikov_kernel(x):\n",
    "        return 3 / 4 * (1 - x ** 2) * (np.abs(x) < 1)"
   ]
  },
  {
   "cell_type": "code",
   "execution_count": 66,
   "metadata": {},
   "outputs": [
    {
     "data": {
      "text/plain": [
       "0.8558558558558559"
      ]
     },
     "execution_count": 66,
     "metadata": {},
     "output_type": "execute_result"
    }
   ],
   "source": [
    "knn = KNN(distance='euclidean', kernel='uniform', weights=None, k=5, h=None)\n",
    "pred = knn.fit(X_train, y_train).predict(X_test)\n",
    "accuracy_score(pred, y_test)"
   ]
  },
  {
   "cell_type": "markdown",
   "metadata": {},
   "source": [
    "### Сравнение с библиотечной"
   ]
  },
  {
   "cell_type": "code",
   "execution_count": 67,
   "metadata": {},
   "outputs": [
    {
     "data": {
      "text/plain": [
       "0.8558558558558559"
      ]
     },
     "execution_count": 67,
     "metadata": {},
     "output_type": "execute_result"
    }
   ],
   "source": [
    "knn = KNeighborsClassifier(n_neighbors=5)\n",
    "pred = knn.fit(X_train, y_train).predict(X_test)\n",
    "accuracy_score(pred, y_test)"
   ]
  },
  {
   "cell_type": "markdown",
   "metadata": {},
   "source": [
    "### Разные метрики, ядра"
   ]
  },
  {
   "cell_type": "code",
   "execution_count": 68,
   "metadata": {},
   "outputs": [
    {
     "name": "stdout",
     "output_type": "stream",
     "text": [
      "metric = euclidean\n",
      "    kernel = uniform\n",
      "        with k = 5: 0.8558558558558559\n",
      "        with h = 0.2: 0.8828828828828829\n",
      "    kernel = gaussian\n",
      "        with k = 5: 0.9099099099099099\n",
      "        with h = 0.2: 0.9009009009009009\n",
      "    kernel = triangular\n",
      "        with k = 5: 0.9099099099099099\n",
      "        with h = 0.2: 0.8828828828828829\n",
      "    kernel = epanechnikov\n",
      "        with k = 5: 0.9099099099099099\n",
      "        with h = 0.2: 0.8828828828828829\n",
      "metric = minkowsky\n",
      "    kernel = uniform\n",
      "        with k = 5: 0.8558558558558559\n",
      "        with h = 0.2: 0.8828828828828829\n",
      "    kernel = gaussian\n",
      "        with k = 5: 0.9099099099099099\n",
      "        with h = 0.2: 0.9009009009009009\n",
      "    kernel = triangular\n",
      "        with k = 5: 0.9099099099099099\n",
      "        with h = 0.2: 0.8828828828828829\n",
      "    kernel = epanechnikov\n",
      "        with k = 5: 0.9099099099099099\n",
      "        with h = 0.2: 0.8828828828828829\n",
      "metric = cosine\n",
      "    kernel = uniform\n",
      "        with k = 5: 0.8558558558558559\n",
      "        with h = 0.2: 0.5495495495495496\n",
      "    kernel = gaussian\n",
      "        with k = 5: 0.9099099099099099\n",
      "        with h = 0.2: 0.7027027027027027\n",
      "    kernel = triangular\n",
      "        with k = 5: 0.9099099099099099\n",
      "        with h = 0.2: 0.8378378378378378\n",
      "    kernel = epanechnikov\n",
      "        with k = 5: 0.9099099099099099\n",
      "        with h = 0.2: 0.8198198198198198\n"
     ]
    }
   ],
   "source": [
    "tab = '    '\n",
    "k = 5\n",
    "h = 0.2\n",
    "for metric in ['euclidean', 'minkowsky', 'cosine']:\n",
    "    print(f'metric = {metric}')\n",
    "    for kernel in ['uniform', 'gaussian', 'triangular', 'epanechnikov']:\n",
    "        print(tab + f'kernel = {kernel}')\n",
    "        score = accuracy_score(\n",
    "            KNN(distance=metric, kernel=kernel, weights=None, k=k, h=None, p=4)\\\n",
    "                .fit(X_train, y_train)\\\n",
    "                .predict(X_test),\n",
    "            y_test\n",
    "        )\n",
    "        print(tab * 2 + f'with k = {k}: {score}')\n",
    "        score = accuracy_score(\n",
    "            KNN(distance=metric, kernel=kernel, weights=None, k=None, h=h, p=4)\\\n",
    "                .fit(X_train, y_train)\\\n",
    "                .predict(X_test),\n",
    "            y_test\n",
    "        )\n",
    "        print(tab * 2 + f'with h = {h}: {score}')"
   ]
  },
  {
   "cell_type": "markdown",
   "metadata": {},
   "source": [
    "### Optuna"
   ]
  },
  {
   "cell_type": "code",
   "execution_count": 69,
   "metadata": {},
   "outputs": [
    {
     "name": "stderr",
     "output_type": "stream",
     "text": [
      "[I 2024-04-03 20:48:03,530] A new study created in memory with name: no-name-874a1c0f-ef3b-4ba5-b10d-ab8b9a6f0fc4\n"
     ]
    },
    {
     "name": "stderr",
     "output_type": "stream",
     "text": [
      "[I 2024-04-03 20:48:03,813] Trial 0 finished with value: 0.9325842696629213 and parameters: {'distance': 'cosine', 'p': 0.4604241818194522, 'kernel': 'triangular', 'k': 16}. Best is trial 0 with value: 0.9325842696629213.\n",
      "[I 2024-04-03 20:48:04,089] Trial 1 finished with value: 0.8764044943820225 and parameters: {'distance': 'cosine', 'p': 2.086536272652475, 'kernel': 'gaussian', 'k': 10}. Best is trial 0 with value: 0.9325842696629213.\n",
      "[I 2024-04-03 20:48:04,220] Trial 2 finished with value: 0.9325842696629213 and parameters: {'distance': 'euclidean', 'p': 1.6933719559387597, 'kernel': 'gaussian', 'k': 5}. Best is trial 0 with value: 0.9325842696629213.\n",
      "[I 2024-04-03 20:48:04,350] Trial 3 finished with value: 0.797752808988764 and parameters: {'distance': 'euclidean', 'p': 1.9810113446084636, 'kernel': 'gaussian', 'k': 19}. Best is trial 0 with value: 0.9325842696629213.\n",
      "[I 2024-04-03 20:48:04,523] Trial 4 finished with value: 0.7415730337078652 and parameters: {'distance': 'minkowsky', 'p': 2.914304310114153, 'kernel': 'uniform', 'k': 14}. Best is trial 0 with value: 0.9325842696629213.\n",
      "[I 2024-04-03 20:48:04,792] Trial 5 finished with value: 0.797752808988764 and parameters: {'distance': 'cosine', 'p': 1.5643979577229623, 'kernel': 'gaussian', 'k': 15}. Best is trial 0 with value: 0.9325842696629213.\n",
      "[I 2024-04-03 20:48:04,978] Trial 6 finished with value: 0.9438202247191011 and parameters: {'distance': 'minkowsky', 'p': 3.94655403379198, 'kernel': 'gaussian', 'k': 2}. Best is trial 6 with value: 0.9438202247191011.\n",
      "[I 2024-04-03 20:48:05,141] Trial 7 finished with value: 0.9438202247191011 and parameters: {'distance': 'minkowsky', 'p': 4.895197712043236, 'kernel': 'triangular', 'k': 2}. Best is trial 6 with value: 0.9438202247191011.\n",
      "[I 2024-04-03 20:48:05,272] Trial 8 finished with value: 0.9325842696629213 and parameters: {'distance': 'euclidean', 'p': 3.2130055114070917, 'kernel': 'uniform', 'k': 2}. Best is trial 6 with value: 0.9438202247191011.\n",
      "[I 2024-04-03 20:48:05,439] Trial 9 finished with value: 0.9550561797752809 and parameters: {'distance': 'minkowsky', 'p': 3.096922428299842, 'kernel': 'epanechnikov', 'k': 19}. Best is trial 9 with value: 0.9550561797752809.\n",
      "[I 2024-04-03 20:48:05,613] Trial 10 finished with value: 0.9662921348314607 and parameters: {'distance': 'minkowsky', 'p': 4.170070550307025, 'kernel': 'epanechnikov', 'k': 20}. Best is trial 10 with value: 0.9662921348314607.\n",
      "[I 2024-04-03 20:48:05,787] Trial 11 finished with value: 0.9662921348314607 and parameters: {'distance': 'minkowsky', 'p': 4.2279868218443735, 'kernel': 'epanechnikov', 'k': 20}. Best is trial 10 with value: 0.9662921348314607.\n",
      "[I 2024-04-03 20:48:05,974] Trial 12 finished with value: 0.9662921348314607 and parameters: {'distance': 'minkowsky', 'p': 4.850265668087106, 'kernel': 'epanechnikov', 'k': 20}. Best is trial 10 with value: 0.9662921348314607.\n",
      "[I 2024-04-03 20:48:06,144] Trial 13 finished with value: 0.9662921348314607 and parameters: {'distance': 'minkowsky', 'p': 4.072864925691844, 'kernel': 'epanechnikov', 'k': 11}. Best is trial 10 with value: 0.9662921348314607.\n",
      "[I 2024-04-03 20:48:06,314] Trial 14 finished with value: 0.9662921348314607 and parameters: {'distance': 'minkowsky', 'p': 4.034327059896217, 'kernel': 'epanechnikov', 'k': 17}. Best is trial 10 with value: 0.9662921348314607.\n",
      "[I 2024-04-03 20:48:06,491] Trial 15 finished with value: 0.9550561797752809 and parameters: {'distance': 'minkowsky', 'p': 3.5633457070305066, 'kernel': 'epanechnikov', 'k': 13}. Best is trial 10 with value: 0.9662921348314607.\n",
      "[I 2024-04-03 20:48:06,667] Trial 16 finished with value: 0.9325842696629213 and parameters: {'distance': 'minkowsky', 'p': 4.506043788373466, 'kernel': 'epanechnikov', 'k': 8}. Best is trial 10 with value: 0.9662921348314607.\n",
      "[I 2024-04-03 20:48:06,853] Trial 17 finished with value: 0.9550561797752809 and parameters: {'distance': 'minkowsky', 'p': 2.6931072923604367, 'kernel': 'epanechnikov', 'k': 17}. Best is trial 10 with value: 0.9662921348314607.\n",
      "[I 2024-04-03 20:48:07,141] Trial 18 finished with value: 0.8876404494382022 and parameters: {'distance': 'cosine', 'p': 3.5597658588422965, 'kernel': 'epanechnikov', 'k': 20}. Best is trial 10 with value: 0.9662921348314607.\n",
      "[I 2024-04-03 20:48:07,291] Trial 19 finished with value: 0.5955056179775281 and parameters: {'distance': 'euclidean', 'p': 0.9403177561994789, 'kernel': 'uniform', 'k': 18}. Best is trial 10 with value: 0.9662921348314607.\n"
     ]
    },
    {
     "name": "stdout",
     "output_type": "stream",
     "text": [
      "{'distance': 'minkowsky', 'p': 4.170070550307025, 'kernel': 'epanechnikov', 'k': 20}\n",
      "0.9662921348314607\n"
     ]
    }
   ],
   "source": [
    "def objective(trial):\n",
    "    params = {\n",
    "        'distance': trial.suggest_categorical('distance', ['euclidean', 'minkowsky', 'cosine']),\n",
    "        'p': trial.suggest_float('p', 0.1, 5),\n",
    "        'kernel': trial.suggest_categorical('kernel', ['uniform', 'gaussian', 'triangular', 'epanechnikov']),\n",
    "        'k': trial.suggest_int('k', 1, 20)\n",
    "        # 'h': trial.suggest_float('h', 0.0001, 10)\n",
    "    }\n",
    "    \n",
    "    model = KNN(**params)\n",
    "\n",
    "    return accuracy_score(y_val, model.fit(X_train, y_train).predict(X_val))\n",
    "\n",
    "study = optuna.create_study(direction='maximize')\n",
    "study.optimize(objective, n_trials=20)\n",
    "\n",
    "print(study.best_params)\n",
    "print(accuracy_score(y_val, KNN(**study.best_params).fit(X_train, y_train).predict(X_val)))"
   ]
  },
  {
   "cell_type": "code",
   "execution_count": 70,
   "metadata": {},
   "outputs": [
    {
     "name": "stderr",
     "output_type": "stream",
     "text": [
      "[I 2024-04-03 20:48:07,475] A new study created in memory with name: no-name-cb8ca44d-76e7-4c89-bb1e-3bf3ee0341ea\n",
      "[I 2024-04-03 20:48:07,680] Trial 0 finished with value: 0.6404494382022472 and parameters: {'distance': 'euclidean', 'p': 3.1353722827876367, 'kernel': 'triangular', 'h': 3.3966709237143586}. Best is trial 0 with value: 0.6404494382022472.\n",
      "[I 2024-04-03 20:48:07,886] Trial 1 finished with value: 0.2247191011235955 and parameters: {'distance': 'minkowsky', 'p': 2.6563933426302055, 'kernel': 'epanechnikov', 'h': 9.489903200245674}. Best is trial 0 with value: 0.6404494382022472.\n",
      "[I 2024-04-03 20:48:08,057] Trial 2 finished with value: 0.24719101123595505 and parameters: {'distance': 'euclidean', 'p': 4.908687710580791, 'kernel': 'gaussian', 'h': 6.085697177181185}. Best is trial 0 with value: 0.6404494382022472.\n",
      "[I 2024-04-03 20:48:08,231] Trial 3 finished with value: 0.39325842696629215 and parameters: {'distance': 'euclidean', 'p': 4.983887081618501, 'kernel': 'epanechnikov', 'h': 4.723064782814244}. Best is trial 0 with value: 0.6404494382022472.\n",
      "[I 2024-04-03 20:48:08,426] Trial 4 finished with value: 0.9775280898876404 and parameters: {'distance': 'euclidean', 'p': 2.5878455684053487, 'kernel': 'uniform', 'h': 0.7221433138010168}. Best is trial 4 with value: 0.9775280898876404.\n",
      "[I 2024-04-03 20:48:08,776] Trial 5 finished with value: 0.2696629213483146 and parameters: {'distance': 'cosine', 'p': 3.4571489603592123, 'kernel': 'triangular', 'h': 4.856513555933161}. Best is trial 4 with value: 0.9775280898876404.\n",
      "[I 2024-04-03 20:48:09,105] Trial 6 finished with value: 0.25842696629213485 and parameters: {'distance': 'cosine', 'p': 4.161148529560095, 'kernel': 'triangular', 'h': 6.484969791601573}. Best is trial 4 with value: 0.9775280898876404.\n",
      "[I 2024-04-03 20:48:09,314] Trial 7 finished with value: 0.1797752808988764 and parameters: {'distance': 'minkowsky', 'p': 3.64082379965727, 'kernel': 'gaussian', 'h': 8.641375282359745}. Best is trial 4 with value: 0.9775280898876404.\n",
      "[I 2024-04-03 20:48:09,542] Trial 8 finished with value: 0.33707865168539325 and parameters: {'distance': 'minkowsky', 'p': 1.951755711437462, 'kernel': 'triangular', 'h': 8.691006320564759}. Best is trial 4 with value: 0.9775280898876404.\n",
      "[I 2024-04-03 20:48:09,767] Trial 9 finished with value: 0.6292134831460674 and parameters: {'distance': 'minkowsky', 'p': 2.8210905185855677, 'kernel': 'triangular', 'h': 2.8781669625886965}. Best is trial 4 with value: 0.9775280898876404.\n",
      "[I 2024-04-03 20:48:09,967] Trial 10 finished with value: 0.9775280898876404 and parameters: {'distance': 'euclidean', 'p': 0.2025897373218961, 'kernel': 'uniform', 'h': 0.11364421781246925}. Best is trial 4 with value: 0.9775280898876404.\n",
      "[I 2024-04-03 20:48:10,173] Trial 11 finished with value: 0.9775280898876404 and parameters: {'distance': 'euclidean', 'p': 0.7005946808759503, 'kernel': 'uniform', 'h': 0.030568550301088626}. Best is trial 4 with value: 0.9775280898876404.\n",
      "[I 2024-04-03 20:48:10,374] Trial 12 finished with value: 0.9775280898876404 and parameters: {'distance': 'euclidean', 'p': 0.12370548147616489, 'kernel': 'uniform', 'h': 0.06151987554846461}. Best is trial 4 with value: 0.9775280898876404.\n",
      "[I 2024-04-03 20:48:10,581] Trial 13 finished with value: 0.6853932584269663 and parameters: {'distance': 'euclidean', 'p': 1.7108697182495765, 'kernel': 'uniform', 'h': 1.9110380962554077}. Best is trial 4 with value: 0.9775280898876404.\n",
      "[I 2024-04-03 20:48:10,814] Trial 14 finished with value: 0.9775280898876404 and parameters: {'distance': 'euclidean', 'p': 1.5915328447330142, 'kernel': 'uniform', 'h': 1.3721946379584316}. Best is trial 4 with value: 0.9775280898876404.\n",
      "[I 2024-04-03 20:48:11,024] Trial 15 finished with value: 0.9775280898876404 and parameters: {'distance': 'euclidean', 'p': 0.994669056215806, 'kernel': 'uniform', 'h': 1.3809682649393715}. Best is trial 4 with value: 0.9775280898876404.\n",
      "[I 2024-04-03 20:48:11,382] Trial 16 finished with value: 0.16853932584269662 and parameters: {'distance': 'cosine', 'p': 1.9501327622500804, 'kernel': 'uniform', 'h': 3.24153934022602}. Best is trial 4 with value: 0.9775280898876404.\n",
      "[I 2024-04-03 20:48:11,597] Trial 17 finished with value: 0.9775280898876404 and parameters: {'distance': 'euclidean', 'p': 0.9943006330847872, 'kernel': 'uniform', 'h': 0.8766436464775382}. Best is trial 4 with value: 0.9775280898876404.\n",
      "[I 2024-04-03 20:48:11,837] Trial 18 finished with value: 0.4943820224719101 and parameters: {'distance': 'euclidean', 'p': 4.138552268323716, 'kernel': 'uniform', 'h': 2.4130454111742874}. Best is trial 4 with value: 0.9775280898876404.\n",
      "[I 2024-04-03 20:48:12,170] Trial 19 finished with value: 0.16853932584269662 and parameters: {'distance': 'cosine', 'p': 2.347732428345496, 'kernel': 'gaussian', 'h': 3.9864565925194344}. Best is trial 4 with value: 0.9775280898876404.\n"
     ]
    },
    {
     "name": "stdout",
     "output_type": "stream",
     "text": [
      "{'distance': 'euclidean', 'p': 2.5878455684053487, 'kernel': 'uniform', 'h': 0.7221433138010168}\n",
      "0.9775280898876404\n"
     ]
    }
   ],
   "source": [
    "def objective(trial):\n",
    "    params = {\n",
    "        'distance': trial.suggest_categorical('distance', ['euclidean', 'minkowsky', 'cosine']),\n",
    "        'p': trial.suggest_float('p', 0.1, 5),\n",
    "        'kernel': trial.suggest_categorical('kernel', ['uniform', 'gaussian', 'triangular', 'epanechnikov']),\n",
    "        # 'k': trial.suggest_int('k', 1, 20)\n",
    "        'h': trial.suggest_float('h', 0.0001, 10)\n",
    "    }\n",
    "    \n",
    "    model = KNN(**params)\n",
    "\n",
    "    return accuracy_score(y_val, model.fit(X_train, y_train).predict(X_val))\n",
    "\n",
    "study = optuna.create_study(direction='maximize')\n",
    "study.optimize(objective, n_trials=20)\n",
    "\n",
    "print(study.best_params)\n",
    "print(accuracy_score(y_val, KNN(**study.best_params).fit(X_train, y_train).predict(X_val)))"
   ]
  },
  {
   "cell_type": "code",
   "execution_count": 71,
   "metadata": {},
   "outputs": [
    {
     "name": "stderr",
     "output_type": "stream",
     "text": [
      "[I 2024-04-03 20:48:12,379] A new study created in memory with name: no-name-28238deb-6edf-43c4-be85-9e6c233ab09c\n",
      "[I 2024-04-03 20:48:12,520] Trial 0 finished with value: 0.4943820224719101 and parameters: {'distance': 'euclidean', 'p': 3.487907560824338, 'k': 20}. Best is trial 0 with value: 0.4943820224719101.\n",
      "[I 2024-04-03 20:48:12,811] Trial 1 finished with value: 0.5842696629213483 and parameters: {'distance': 'cosine', 'p': 2.9019227144409565, 'k': 18}. Best is trial 1 with value: 0.5842696629213483.\n",
      "[I 2024-04-03 20:48:12,947] Trial 2 finished with value: 0.898876404494382 and parameters: {'distance': 'euclidean', 'p': 3.6616068538701207, 'k': 5}. Best is trial 2 with value: 0.898876404494382.\n",
      "[I 2024-04-03 20:48:13,227] Trial 3 finished with value: 0.6404494382022472 and parameters: {'distance': 'cosine', 'p': 3.6730512666738457, 'k': 16}. Best is trial 2 with value: 0.898876404494382.\n",
      "[I 2024-04-03 20:48:13,507] Trial 4 finished with value: 0.9325842696629213 and parameters: {'distance': 'cosine', 'p': 2.522667854082588, 'k': 3}. Best is trial 4 with value: 0.9325842696629213.\n",
      "[I 2024-04-03 20:48:13,641] Trial 5 finished with value: 0.6741573033707865 and parameters: {'distance': 'euclidean', 'p': 3.9003366730092512, 'k': 16}. Best is trial 4 with value: 0.9325842696629213.\n",
      "[I 2024-04-03 20:48:13,810] Trial 6 finished with value: 0.6067415730337079 and parameters: {'distance': 'minkowsky', 'p': 1.4992594763228413, 'k': 17}. Best is trial 4 with value: 0.9325842696629213.\n",
      "[I 2024-04-03 20:48:13,946] Trial 7 finished with value: 0.4943820224719101 and parameters: {'distance': 'euclidean', 'p': 0.8899356979855716, 'k': 20}. Best is trial 4 with value: 0.9325842696629213.\n",
      "[I 2024-04-03 20:48:14,242] Trial 8 finished with value: 0.6292134831460674 and parameters: {'distance': 'cosine', 'p': 3.1698058338500967, 'k': 17}. Best is trial 4 with value: 0.9325842696629213.\n",
      "[I 2024-04-03 20:48:14,410] Trial 9 finished with value: 0.8876404494382022 and parameters: {'distance': 'minkowsky', 'p': 0.6319259538257981, 'k': 6}. Best is trial 4 with value: 0.9325842696629213.\n",
      "[I 2024-04-03 20:48:14,699] Trial 10 finished with value: 0.9775280898876404 and parameters: {'distance': 'cosine', 'p': 4.870824980847477, 'k': 1}. Best is trial 10 with value: 0.9775280898876404.\n",
      "[I 2024-04-03 20:48:14,991] Trial 11 finished with value: 0.9775280898876404 and parameters: {'distance': 'cosine', 'p': 4.762366174884855, 'k': 1}. Best is trial 10 with value: 0.9775280898876404.\n",
      "[I 2024-04-03 20:48:15,339] Trial 12 finished with value: 0.8089887640449438 and parameters: {'distance': 'cosine', 'p': 4.9333785751823545, 'k': 10}. Best is trial 10 with value: 0.9775280898876404.\n",
      "[I 2024-04-03 20:48:15,623] Trial 13 finished with value: 0.9775280898876404 and parameters: {'distance': 'cosine', 'p': 4.888998213164173, 'k': 1}. Best is trial 10 with value: 0.9775280898876404.\n",
      "[I 2024-04-03 20:48:15,911] Trial 14 finished with value: 0.8202247191011236 and parameters: {'distance': 'cosine', 'p': 4.371185265011832, 'k': 9}. Best is trial 10 with value: 0.9775280898876404.\n",
      "[I 2024-04-03 20:48:16,233] Trial 15 finished with value: 0.9775280898876404 and parameters: {'distance': 'cosine', 'p': 2.152685835147818, 'k': 1}. Best is trial 10 with value: 0.9775280898876404.\n",
      "[I 2024-04-03 20:48:16,416] Trial 16 finished with value: 0.898876404494382 and parameters: {'distance': 'minkowsky', 'p': 4.241626547441619, 'k': 7}. Best is trial 10 with value: 0.9775280898876404.\n",
      "[I 2024-04-03 20:48:16,710] Trial 17 finished with value: 0.6853932584269663 and parameters: {'distance': 'cosine', 'p': 4.511980998501799, 'k': 12}. Best is trial 10 with value: 0.9775280898876404.\n",
      "[I 2024-04-03 20:48:17,003] Trial 18 finished with value: 0.9325842696629213 and parameters: {'distance': 'cosine', 'p': 1.8905407280436388, 'k': 3}. Best is trial 10 with value: 0.9775280898876404.\n",
      "[I 2024-04-03 20:48:17,193] Trial 19 finished with value: 0.6741573033707865 and parameters: {'distance': 'minkowsky', 'p': 4.208420181201604, 'k': 13}. Best is trial 10 with value: 0.9775280898876404.\n"
     ]
    },
    {
     "name": "stdout",
     "output_type": "stream",
     "text": [
      "{'distance': 'cosine', 'p': 4.870824980847477, 'k': 1}\n",
      "0.9775280898876404\n"
     ]
    }
   ],
   "source": [
    "def objective(trial):\n",
    "    params = {\n",
    "        'distance': trial.suggest_categorical('distance', ['euclidean', 'minkowsky', 'cosine']),\n",
    "        'p': trial.suggest_float('p', 0.1, 5),\n",
    "        'k': trial.suggest_int('k', 1, 20)\n",
    "    }\n",
    "    \n",
    "    model = KNN(**params)\n",
    "\n",
    "    return accuracy_score(y_val, model.fit(X_train, y_train).predict(X_val))\n",
    "\n",
    "study = optuna.create_study(direction='maximize')\n",
    "study.optimize(objective, n_trials=20)\n",
    "\n",
    "print(study.best_params)\n",
    "print(accuracy_score(y_val, KNN(**study.best_params).fit(X_train, y_train).predict(X_val)))"
   ]
  },
  {
   "cell_type": "markdown",
   "metadata": {},
   "source": [
    "### Graphics"
   ]
  },
  {
   "cell_type": "code",
   "execution_count": 72,
   "metadata": {},
   "outputs": [
    {
     "data": {
      "image/png": "[encoded data removed]",
      "text/plain": [
       "<Figure size 640x480 with 1 Axes>"
      ]
     },
     "metadata": {},
     "output_type": "display_data"
    }
   ],
   "source": [
    "k_range = np.arange(1, 10)\n",
    "acc_train = []\n",
    "acc_test = []\n",
    "acc_val = []\n",
    "\n",
    "for k in k_range:\n",
    "    model = KNN(distance='cosine', p=3.6152173189555747, k=k)\n",
    "    model.fit(X_train, y_train)\n",
    "\n",
    "    acc_train.append(accuracy_score(y_train, model.predict(X_train)))\n",
    "    acc_test.append(accuracy_score(y_test, model.predict(X_test)))\n",
    "    acc_val.append(accuracy_score(y_val, model.predict(X_val)))\n",
    "\n",
    "plt.plot(k_range, acc_train, label='train')\n",
    "plt.plot(k_range, acc_test, label='test')\n",
    "plt.plot(k_range, acc_val, label='val')\n",
    "plt.legend();"
   ]
  },
  {
   "cell_type": "code",
   "execution_count": 73,
   "metadata": {},
   "outputs": [
    {
     "data": {
      "image/png": "[encoded data removed]",
      "text/plain": [
       "<Figure size 640x480 with 1 Axes>"
      ]
     },
     "metadata": {},
     "output_type": "display_data"
    }
   ],
   "source": [
    "k_range = np.arange(1, 10)\n",
    "acc_train = []\n",
    "acc_test = []\n",
    "acc_val = []\n",
    "\n",
    "for k in k_range:\n",
    "    model = KNeighborsClassifier(metric='cosine', p=3.6152173189555747, n_neighbors=k)\n",
    "    model.fit(X_train, y_train)\n",
    "\n",
    "    acc_train.append(accuracy_score(y_train, model.predict(X_train)))\n",
    "    acc_test.append(accuracy_score(y_test, model.predict(X_test)))\n",
    "    acc_val.append(accuracy_score(y_val, model.predict(X_val)))\n",
    "\n",
    "plt.plot(k_range, acc_train, label='train')\n",
    "plt.plot(k_range, acc_test, label='test')\n",
    "plt.plot(k_range, acc_val, label='val')\n",
    "plt.legend();"
   ]
  },
  {
   "cell_type": "markdown",
   "metadata": {},
   "source": [
    "### LOWESS"
   ]
  },
  {
   "cell_type": "code",
   "execution_count": 74,
   "metadata": {},
   "outputs": [],
   "source": [
    "\n",
    "def lowess(X, y, knn, kernel='uniform'):\n",
    "    if kernel == 'uniform':\n",
    "        kernel = KNN.uniform_kernel\n",
    "    elif kernel == 'gaussian':\n",
    "        kernel = KNN.gaussian_kernel\n",
    "    elif kernel == 'triangular':\n",
    "        kernel = KNN.triangular_kernel\n",
    "    elif kernel == 'epanechnikov':\n",
    "        kernel = KNN.epanechnikov_kernel\n",
    "    else:\n",
    "        raise ValueError('Wrong kernel: ' + kernel)\n",
    "    \n",
    "    weights = []\n",
    "    for i in range(len(X)):\n",
    "        new_X = np.delete(X, i, axis=0)\n",
    "        new_y = np.delete(y, i, axis=0)\n",
    "        knn.fit(new_X, new_y)\n",
    "        \n",
    "        y_pred = knn.predict(np.array([X[i]]))[0]\n",
    "        weights.append(kernel(0 if y[i] == y_pred else 1))\n",
    "    \n",
    "    return weights"
   ]
  },
  {
   "cell_type": "code",
   "execution_count": 95,
   "metadata": {},
   "outputs": [
    {
     "name": "stdout",
     "output_type": "stream",
     "text": [
      "0.8558558558558559\n"
     ]
    }
   ],
   "source": [
    "model = KNN(k=4)\n",
    "model.fit(X_train, y_train)\n",
    "print(accuracy_score(y_test, model.predict(X_test)))"
   ]
  },
  {
   "cell_type": "code",
   "execution_count": 98,
   "metadata": {},
   "outputs": [],
   "source": [
    "w = lowess(X_train, y_train.values, model, kernel='uniform')"
   ]
  },
  {
   "cell_type": "code",
   "execution_count": 99,
   "metadata": {},
   "outputs": [
    {
     "name": "stdout",
     "output_type": "stream",
     "text": [
      "0.8468468468468469\n"
     ]
    }
   ],
   "source": [
    "model = KNN(k=4, weights=w)\n",
    "model.fit(X_train, y_train)\n",
    "print(accuracy_score(y_test, model.predict(X_test)))"
   ]
  }
 ],
 "metadata": {
  "kernelspec": {
   "display_name": "Python 3",
   "language": "python",
   "name": "python3"
  },
  "language_info": {
   "codemirror_mode": {
    "name": "ipython",
    "version": 3
   },
   "file_extension": ".py",
   "mimetype": "text/x-python",
   "name": "python",
   "nbconvert_exporter": "python",
   "pygments_lexer": "ipython3",
   "version": "3.10.12"
  }
 },
 "nbformat": 4,
 "nbformat_minor": 2
}
